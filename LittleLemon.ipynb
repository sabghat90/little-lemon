{
 "cells": [
  {
   "cell_type": "code",
   "execution_count": 1,
   "id": "dece245a",
   "metadata": {
    "scrolled": true
   },
   "outputs": [],
   "source": [
    "import mysql.connector\n",
    "import pandas as pd\n",
    "\n",
    "# Connect to MySQL database\n",
    "conn = mysql.connector.connect(\n",
    "    host=\"localhost\",\n",
    "    port=3306,\n",
    "    user=\"root\",\n",
    "    password=\"Sabghat@@@90\",\n",
    "    database=\"little_lemon\"\n",
    ")\n",
    "cursor = conn.cursor()"
   ]
  },
  {
   "cell_type": "code",
   "execution_count": 21,
   "id": "fa00bfb8",
   "metadata": {},
   "outputs": [],
   "source": [
    "# Create Orders Table\n",
    "cursor.execute('''\n",
    "CREATE TABLE IF NOT EXISTS Orders (\n",
    "    OrderID VARCHAR(20) PRIMARY KEY,\n",
    "    OrderDate DATE,\n",
    "    ShipDate DATE,\n",
    "    ShipMode VARCHAR(50),\n",
    "    CustomerID VARCHAR(20),\n",
    "    Country VARCHAR(50),\n",
    "    City VARCHAR(50),\n",
    "    State VARCHAR(50),\n",
    "    PostalCode VARCHAR(20),\n",
    "    Region VARCHAR(50)\n",
    ")\n",
    "''')\n",
    "\n",
    "# Create Products Table\n",
    "cursor.execute('''\n",
    "CREATE TABLE IF NOT EXISTS Products (\n",
    "    ProductID VARCHAR(20) PRIMARY KEY,\n",
    "    Category VARCHAR(50),\n",
    "    SubCategory VARCHAR(50),\n",
    "    ProductName VARCHAR(255)\n",
    ")\n",
    "''')\n",
    "\n",
    "# Create OrderDetails Table\n",
    "cursor.execute('''\n",
    "CREATE TABLE IF NOT EXISTS OrderDetails (\n",
    "    RowID INT AUTO_INCREMENT PRIMARY KEY,\n",
    "    OrderID VARCHAR(20),  \n",
    "    ProductID VARCHAR(20),\n",
    "    Sales DECIMAL(10, 2),\n",
    "    Quantity INT,\n",
    "    Discount DECIMAL(5, 2),\n",
    "    Profit DECIMAL(10, 2),\n",
    "    FOREIGN KEY (OrderID) REFERENCES Orders(OrderID), \n",
    "    FOREIGN KEY (ProductID) REFERENCES Products(ProductID)\n",
    ")\n",
    "''')\n",
    "\n",
    "# Create Cart Table\n",
    "cursor.execute('''\n",
    "CREATE TABLE IF NOT EXISTS Cart (\n",
    "    id INT PRIMARY KEY AUTO_INCREMENT,\n",
    "    menuitem_id VARCHAR(20),\n",
    "    quantity INT,\n",
    "    FOREIGN KEY (menuitem_id) REFERENCES Products(ProductID)\n",
    ")\n",
    "''')\n",
    "\n",
    "cursor.execute('''\n",
    "CREATE TABLE Bookings (\n",
    "    BookingID INT AUTO_INCREMENT PRIMARY KEY,\n",
    "    CustomerID INT NOT NULL,\n",
    "    TableNumber INT NOT NULL,\n",
    "    BookingDate DATE NOT NULL,\n",
    "    Status VARCHAR(20) NOT NULL\n",
    ");\n",
    "''')\n",
    "\n",
    "# Commit the changes\n",
    "conn.commit()"
   ]
  },
  {
   "cell_type": "code",
   "execution_count": 3,
   "id": "ee14ac30-12b5-4fbf-beab-2f7242336d52",
   "metadata": {},
   "outputs": [],
   "source": [
    "df = pd.read_csv(\"superstore.csv\")"
   ]
  },
  {
   "cell_type": "code",
   "execution_count": 4,
   "id": "03a33ef9-fa30-402f-96e3-2713aaddfa2a",
   "metadata": {},
   "outputs": [],
   "source": [
    "date_columns = ['Order Date', 'Ship Date']  # Add all date columns here\n",
    "for col in date_columns:\n",
    "    if col in df.columns:\n",
    "        df[col] = pd.to_datetime(df[col], format='%m/%d/%Y').dt.strftime('%Y-%m-%d')"
   ]
  },
  {
   "cell_type": "code",
   "execution_count": 5,
   "id": "a79cce71-0a4d-4579-afc4-8ac94a49c7b7",
   "metadata": {},
   "outputs": [],
   "source": [
    "df = df.drop_duplicates(subset=['Order ID'], keep='first')\n",
    "df = df.drop_duplicates(subset=['Product ID'], keep='first')"
   ]
  },
  {
   "cell_type": "code",
   "execution_count": 6,
   "id": "84c50859-9dea-416b-a794-4eef890401f5",
   "metadata": {},
   "outputs": [],
   "source": [
    "if 'Order ID' in df.columns:\n",
    "    for _, row in df.iterrows():\n",
    "        query = '''\n",
    "        INSERT INTO Orders (OrderID, OrderDate, ShipDate, ShipMode, CustomerID, Country, City, State, PostalCode, Region)\n",
    "        VALUES (%s, %s, %s, %s, %s, %s, %s, %s, %s, %s)\n",
    "        '''\n",
    "        values = (\n",
    "            row['Order ID'], row['Order Date'], row['Ship Date'], row['Ship Mode'],\n",
    "            row['Customer ID'], row['Country'], row['City'], row['State'],\n",
    "            row['Postal Code'], row['Region']\n",
    "        )\n",
    "        cursor.execute(query, values)"
   ]
  },
  {
   "cell_type": "code",
   "execution_count": 7,
   "id": "6b060610-6f64-4a4d-b03b-cc3f176f7b17",
   "metadata": {},
   "outputs": [],
   "source": [
    "if 'Product ID' in df.columns:\n",
    "    for _, row in df.iterrows():\n",
    "        query = '''\n",
    "        INSERT INTO Products (ProductID, Category, SubCategory, ProductName)\n",
    "        VALUES (%s, %s, %s, %s)\n",
    "        '''\n",
    "        values = (row['Product ID'], row['Category'], row['Sub-Category'], row['Product Name'])\n",
    "        cursor.execute(query, values)"
   ]
  },
  {
   "cell_type": "code",
   "execution_count": 8,
   "id": "9c8e7b4d-5461-40a4-87a2-0ddb466ced0e",
   "metadata": {},
   "outputs": [],
   "source": [
    "if 'Row ID' in df.columns:\n",
    "    for _, row in df.iterrows():\n",
    "        query = '''\n",
    "        INSERT INTO OrderDetails (RowID, OrderID, ProductID, Sales, Quantity, Discount, Profit)\n",
    "        VALUES (%s, %s, %s, %s, %s, %s, %s)\n",
    "        '''\n",
    "        values = (\n",
    "            row['Row ID'], row['Order ID'], row['Product ID'], row['Sales'],\n",
    "            row['Quantity'], row['Discount'], row['Profit']\n",
    "        )\n",
    "        cursor.execute(query, values)"
   ]
  },
  {
   "cell_type": "code",
   "execution_count": 9,
   "id": "c6ff9f6c-824b-4bae-af61-b90639acd4dc",
   "metadata": {},
   "outputs": [],
   "source": [
    "conn.commit()"
   ]
  },
  {
   "cell_type": "code",
   "execution_count": 12,
   "id": "4503fe6b-2037-4c29-b949-812563e6eaad",
   "metadata": {},
   "outputs": [
    {
     "name": "stdout",
     "output_type": "stream",
     "text": [
      "Stored procedure GetMaxQuantity() created successfully.\n"
     ]
    }
   ],
   "source": [
    "# Create the GetMaxQuantity procedure\n",
    "get_max_quantity_procedure_query = \"\"\"\n",
    "CREATE PROCEDURE GetMaxQuantity()\n",
    "BEGIN\n",
    "    SELECT MAX(Quantity) AS MaxQuantity FROM OrderDetails;\n",
    "END\n",
    "\"\"\"\n",
    "\n",
    "try:\n",
    "    cursor.execute(get_max_quantity_procedure_query)\n",
    "    print(\"Stored procedure GetMaxQuantity() created successfully.\")\n",
    "except mysql.connector.Error as err:\n",
    "    print(f\"Error: {err}\")"
   ]
  },
  {
   "cell_type": "code",
   "execution_count": 13,
   "id": "023a698b-b9f3-4f52-a36f-7cf4f07279bc",
   "metadata": {},
   "outputs": [
    {
     "name": "stdout",
     "output_type": "stream",
     "text": [
      "Stored procedure for AddBooking() created successfully.\n"
     ]
    }
   ],
   "source": [
    "add_booking_procedure = \"\"\"\n",
    "CREATE PROCEDURE AddBooking(\n",
    "    IN customer_id INT,  \n",
    "    IN table_number INT,  \n",
    "    IN booking_date DATE,  \n",
    "    IN status VARCHAR(20)\n",
    ")\n",
    "BEGIN\n",
    "    INSERT INTO Bookings (CustomerID, TableNumber, BookingDate, Status)\n",
    "    VALUES (customer_id, table_number, booking_date, status);\n",
    "END\n",
    "\"\"\"\n",
    "\n",
    "try:\n",
    "    cursor.execute(add_booking_procedure)\n",
    "    print(\"Stored procedure for AddBooking() created successfully.\")\n",
    "except mysql.connector.Error as err:\n",
    "    print(f\"Error: {err}\")"
   ]
  },
  {
   "cell_type": "code",
   "execution_count": 19,
   "id": "b732d58f-cf1a-4055-85eb-376f5d3971c3",
   "metadata": {},
   "outputs": [
    {
     "name": "stdout",
     "output_type": "stream",
     "text": [
      "Stored procedure for UpdateBooking() created successfully.\n"
     ]
    }
   ],
   "source": [
    "update_booking_procedure_qurey = \"\"\"\n",
    "CREATE PROCEDURE UpdateBooking(\n",
    "    IN booking_id INT,  \n",
    "    IN table_number INT,  \n",
    "    IN booking_date DATE,  \n",
    "    IN status VARCHAR(20)\n",
    ")\n",
    "BEGIN\n",
    "    UPDATE Bookings \n",
    "    SET TableNumber = table_number, BookingDate = booking_date, Status = status\n",
    "    WHERE BookingID = booking_id;\n",
    "END;\n",
    "\"\"\"\n",
    "\n",
    "try:\n",
    "    cursor.execute(update_booking_procedure_qurey)\n",
    "    print(\"Stored procedure for UpdateBooking() created successfully.\")\n",
    "except mysql.connector.Error as err:\n",
    "    print(f\"Error: {err}\")"
   ]
  },
  {
   "cell_type": "code",
   "execution_count": 15,
   "id": "141d43c0-b22b-468b-8495-00bb2ea06aaa",
   "metadata": {},
   "outputs": [
    {
     "name": "stdout",
     "output_type": "stream",
     "text": [
      "Stored procedure for CancelBooking() created successfully.\n"
     ]
    }
   ],
   "source": [
    "cancel_booking_procedure_qurey = \"\"\"\n",
    "CREATE PROCEDURE CancelBooking(\n",
    "    IN booking_id INT\n",
    ")\n",
    "BEGIN\n",
    "    UPDATE Bookings \n",
    "    SET Status = 'Cancelled' \n",
    "    WHERE BookingID = booking_id;\n",
    "END\n",
    "\"\"\"\n",
    "\n",
    "try:\n",
    "    cursor.execute(cancel_booking_procedure_qurey)\n",
    "    print(\"Stored procedure for CancelBooking() created successfully.\")\n",
    "except mysql.connector.Error as err:\n",
    "    print(f\"Error: {err}\")"
   ]
  },
  {
   "cell_type": "code",
   "execution_count": 18,
   "id": "4a0f1a07-adba-4616-8996-548bc7d33779",
   "metadata": {},
   "outputs": [
    {
     "name": "stdout",
     "output_type": "stream",
     "text": [
      "Stored procedure for ManageBooking() created successfully.\n"
     ]
    }
   ],
   "source": [
    "manage_booking_procedure_query = \"\"\"\n",
    "CREATE PROCEDURE ManageBooking(\n",
    "    IN action_type VARCHAR(10),  -- 'ADD', 'UPDATE', 'CANCEL'\n",
    "    IN booking_id INT,           -- Booking ID (required for UPDATE/CANCEL)\n",
    "    IN customer_id INT,          -- Customer ID (for ADD)\n",
    "    IN table_number INT,         -- Table number (for ADD/UPDATE)\n",
    "    IN booking_date DATE,        -- Booking date (for ADD/UPDATE)\n",
    "    IN status VARCHAR(20)        -- Status: 'Confirmed', 'Cancelled', etc.\n",
    ")\n",
    "BEGIN\n",
    "    IF action_type = 'ADD' THEN\n",
    "        INSERT INTO Bookings (CustomerID, TableNumber, BookingDate, Status)\n",
    "        VALUES (customer_id, table_number, booking_date, status);\n",
    "\n",
    "    ELSEIF action_type = 'UPDATE' THEN\n",
    "        UPDATE Bookings\n",
    "        SET TableNumber = table_number, BookingDate = booking_date, Status = status\n",
    "        WHERE BookingID = booking_id;\n",
    "\n",
    "    ELSEIF action_type = 'CANCEL' THEN\n",
    "        UPDATE Bookings\n",
    "        SET Status = 'Cancelled'\n",
    "        WHERE BookingID = booking_id;\n",
    "        END IF;\n",
    "END\n",
    "\"\"\"\n",
    "\n",
    "try:\n",
    "    cursor.execute(manage_booking_procedure_query)\n",
    "    print(\"Stored procedure for ManageBooking() created successfully.\")\n",
    "except mysql.connector.Error as err:\n",
    "    print(f\"Error: {err}\")"
   ]
  },
  {
   "cell_type": "code",
   "execution_count": 23,
   "id": "fbd214b1-f626-4377-9a1c-c6a986724a68",
   "metadata": {},
   "outputs": [
    {
     "name": "stdout",
     "output_type": "stream",
     "text": [
      "AddBooking() executed successfully.\n",
      "UpdateBooking() executed successfully.\n",
      "CancelBooking() executed successfully.\n",
      "ManageBooking(ADD) executed successfully.\n",
      "ManageBooking(UPDATE) executed successfully.\n",
      "ManageBooking(CANCEL) executed successfully.\n"
     ]
    }
   ],
   "source": [
    "def test_add_booking():\n",
    "    try:\n",
    "        cursor.callproc(\"AddBooking\", (1, 5, \"2025-03-10\", \"Confirmed\"))\n",
    "        conn.commit()\n",
    "        print(\"AddBooking() executed successfully.\")\n",
    "    except mysql.connector.Error as err:\n",
    "        print(f\"Error in AddBooking(): {err}\")\n",
    "\n",
    "def test_update_booking():\n",
    "    try:\n",
    "        cursor.callproc(\"UpdateBooking\", (1, 3, \"2025-03-15\", \"Rescheduled\"))\n",
    "        conn.commit()\n",
    "        print(\"UpdateBooking() executed successfully.\")\n",
    "    except mysql.connector.Error as err:\n",
    "        print(f\"Error in UpdateBooking(): {err}\")\n",
    "\n",
    "def test_cancel_booking():\n",
    "    try:\n",
    "        cursor.callproc(\"CancelBooking\", (1,))\n",
    "        conn.commit()\n",
    "        print(\"CancelBooking() executed successfully.\")\n",
    "    except mysql.connector.Error as err:\n",
    "        print(f\"Error in CancelBooking(): {err}\")\n",
    "\n",
    "def test_manage_booking():\n",
    "    try:\n",
    "        cursor.callproc(\"ManageBooking\", (\"ADD\", None, 2, 4, \"2025-03-20\", \"Confirmed\"))\n",
    "        conn.commit()\n",
    "        print(\"ManageBooking(ADD) executed successfully.\")\n",
    "\n",
    "        cursor.callproc(\"ManageBooking\", (\"UPDATE\", 2, None, 6, \"2025-03-22\", \"Updated\"))\n",
    "        conn.commit()\n",
    "        print(\"ManageBooking(UPDATE) executed successfully.\")\n",
    "\n",
    "        cursor.callproc(\"ManageBooking\", (\"CANCEL\", 2, None, None, None, None))\n",
    "        conn.commit()\n",
    "        print(\"ManageBooking(CANCEL) executed successfully.\")\n",
    "\n",
    "    except mysql.connector.Error as err:\n",
    "        print(f\"Error in ManageBooking(): {err}\")\n",
    "\n",
    "test_add_booking()\n",
    "test_update_booking()\n",
    "test_cancel_booking()\n",
    "test_manage_booking()\n"
   ]
  },
  {
   "cell_type": "code",
   "execution_count": 3,
   "id": "6ffac516-76a8-4bc7-9939-5e4d8237745a",
   "metadata": {},
   "outputs": [
    {
     "name": "stdout",
     "output_type": "stream",
     "text": [
      "Sample bookings inserted successfully.\n"
     ]
    }
   ],
   "source": [
    "# Sample booking data\n",
    "bookings_data = [\n",
    "    (1, 3, '2025-03-10', 'Confirmed'),\n",
    "    (2, 5, '2025-03-12', 'Pending'),\n",
    "    (3, 2, '2025-03-15', 'Confirmed'),\n",
    "    (4, 7, '2025-03-18', 'Cancelled'),\n",
    "    (5, 4, '2025-03-20', 'Confirmed')\n",
    "]\n",
    "\n",
    "# Insert data into the Bookings table\n",
    "insert_query = \"INSERT INTO Bookings (CustomerID, TableNumber, BookingDate, Status) VALUES (%s, %s, %s, %s)\"\n",
    "\n",
    "try:\n",
    "    cursor.executemany(insert_query, bookings_data)\n",
    "    conn.commit()\n",
    "    print(\"Sample bookings inserted successfully.\")\n",
    "except mysql.connector.Error as err:\n",
    "    print(f\"Error inserting bookings: {err}\")"
   ]
  }
 ],
 "metadata": {
  "kernelspec": {
   "display_name": "Python 3 (ipykernel)",
   "language": "python",
   "name": "python3"
  },
  "language_info": {
   "codemirror_mode": {
    "name": "ipython",
    "version": 3
   },
   "file_extension": ".py",
   "mimetype": "text/x-python",
   "name": "python",
   "nbconvert_exporter": "python",
   "pygments_lexer": "ipython3",
   "version": "3.12.4"
  }
 },
 "nbformat": 4,
 "nbformat_minor": 5
}
